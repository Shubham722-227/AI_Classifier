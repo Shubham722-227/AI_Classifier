{
  "nbformat": 4,
  "nbformat_minor": 0,
  "metadata": {
    "colab": {
      "provenance": []
    },
    "kernelspec": {
      "name": "python3",
      "display_name": "Python 3"
    },
    "language_info": {
      "name": "python"
    }
  },
  "cells": [
    {
      "cell_type": "code",
      "execution_count": null,
      "metadata": {
        "id": "a0R3Chw-P2ZC"
      },
      "outputs": [],
      "source": [
        "# Importing required packages.\n",
        "import numpy as np\n",
        "import pandas as pd\n",
        "import matplotlib.pyplot as plt\n",
        "from sklearn import datasets\n",
        "from sklearn.model_selection import train_test_split\n",
        "from sklearn.metrics import confusion_matrix, accuracy_score\n",
        "\n",
        "# Importing Naive Bayes classifier \n",
        "from sklearn.naive_bayes import MultinomialNB"
      ]
    },
    {
      "cell_type": "code",
      "source": [
        "# Reading the required dataset \n",
        "\"\"\"\n",
        "Dataset used in here from sklearn is from UCI Optical Recognition of Handwritten Digits Data Set.\n",
        "\n",
        "Each datapoint is a 8x8 image of a digit.\n",
        "\n",
        "This is a copy of the test set of the UCI ML hand-written digits datasets https://archive.ics.uci.edu/ml/datasets/Optical+Recognition+of+Handwritten+Digits\n",
        "\"\"\"\n",
        "digits = datasets.load_digits()\n",
        "\n",
        "# Create feature and target arrays\n",
        "\"\"\"\n",
        "Splitting dataset into features and target arrays. \n",
        "\"\"\"\n",
        "X = digits.data\n",
        "y = digits.target\n",
        "\n",
        "# Split dataset into train and test\n",
        "\"\"\"\n",
        "In order to train a model, we need to split the features and targets into batches for training and testing.\n",
        "\n",
        "According to question, the train test split happens with 50% split size. And the split is random with each iteration. \n",
        "\"\"\"\n",
        "x_train, x_test, y_train, y_test = train_test_split(X,y, test_size = 0.5, random_state=42, stratify=y, shuffle=True)"
      ],
      "metadata": {
        "id": "fcEIVINbTzfe"
      },
      "execution_count": null,
      "outputs": []
    },
    {
      "cell_type": "code",
      "source": [
        "# Initiate Naive Bayes model\n",
        "nb = MultinomialNB()\n",
        "\n",
        "# Train the model in training data\n",
        "nb.fit(x_train, y_train)\n",
        "\n",
        "# Predict on test data\n",
        "y_pred = nb.predict(x_test)"
      ],
      "metadata": {
        "id": "LgjeeqXaUBWa"
      },
      "execution_count": null,
      "outputs": []
    },
    {
      "cell_type": "code",
      "source": [
        "# Print the Naive Bayes score of the model\n",
        "print(\"Naive Bayes score: \",nb.score(x_test, y_test))"
      ],
      "metadata": {
        "id": "4eIAT7YfUlv0"
      },
      "execution_count": null,
      "outputs": []
    },
    {
      "cell_type": "code",
      "source": [
        "# Shows counts of each number in random half\n",
        "print(\"Counts of each number in random split.\")\n",
        "unique, count = np.unique(y_test, return_counts=True)\n",
        "for id in range(0,len(unique)):\n",
        "  print(f\"{unique[id]} : {count[id]}\")"
      ],
      "metadata": {
        "id": "0ReB9Z5RjC8R"
      },
      "execution_count": null,
      "outputs": []
    },
    {
      "cell_type": "code",
      "source": [
        "# Predicts on random 20 images\n",
        "y_20_pred = nb.predict(x_test[:20])\n",
        "print(\"Prediction on 20 random images.\")\n",
        "for id in range(0, 20):\n",
        "  plt.imshow(x_test[id].reshape(8,-1), cmap=plt.get_cmap('gray'))\n",
        "  plt.show()\n",
        "  print(f\"Predicted: {y_20_pred[id]} | Actual: {y_test[id]}\")\n"
      ],
      "metadata": {
        "id": "ITgUsj-Dtqv_"
      },
      "execution_count": null,
      "outputs": []
    },
    {
      "cell_type": "code",
      "source": [
        "# Build probability table for all single digit numbers.\n",
        "unique, counts = np.unique(y_test, return_counts=True)\n",
        "accuracy = accuracy_score(y_test,y_pred)\n",
        "conf_mat = confusion_matrix(y_test,y_pred)\n",
        "true_pred = conf_mat.diagonal()\n",
        "\n",
        "print(\"Digit  Probability\")\n",
        "for id in range(0, len(true_pred)):\n",
        "  print(f\"{unique[id]}  :   {true_pred[id]/counts[id]}\")"
      ],
      "metadata": {
        "id": "mzJpk8Z80v5D"
      },
      "execution_count": null,
      "outputs": []
    },
    {
      "cell_type": "code",
      "source": [],
      "metadata": {
        "id": "22BfHlf91dyj"
      },
      "execution_count": null,
      "outputs": []
    }
  ]
}